{
 "cells": [
  {
   "cell_type": "code",
   "execution_count": 23,
   "metadata": {},
   "outputs": [
    {
     "name": "stdout",
     "output_type": "stream",
     "text": [
      "['\\ufeffՀայաստան', 'Վիքիպեդիայից՝', 'ազատ', 'հանրագիտարանից', 'Jump', 'to', 'navigationJump', 'to', 'search', 'HS', 'Disambig.svg', 'Անվան', 'այլ', 'կիրառումների', 'համար', 'տես՝', 'Հայաստան', '(այլ', 'կիրառումներ)', 'Արեւմտահայերէն', 'տարբերակ՝', 'Հայաստան', '(արեւմտահայերէն)Այս', 'հոդվածն', 'ունի', 'ձայնային', 'տարբերակ', 'Լսել', 'հոդվածի', 'ներածությունը', '·', '(տեղ.)', 'MENU0:00', 'Exquisite-kmix.png', 'Ձայնային', 'ֆայլն', 'ստեղծվել', 'է', 'հետևյալ', 'տարբերակի', 'հիման', 'վրա', '(Սեպտեմբերի', '15,', '2016\\u200e)', 'և', 'չի', 'պարունակում', 'այս', 'ամսաթվից', 'հետո', 'կատարված', 'փոփոխությունները։', 'Տես', 'նաև', 'ֆայլի', 'մասին', 'տեղեկությունները', 'կամ', 'բեռնիր', 'ձայնագրությունը', 'Վիքիպահեստից։', '(Գտնել', 'այլ', 'աուդիո', 'հոդվածներ)', 'Հայաստանի', 'Հանրապետություն', 'Հայաստան', 'դրոշ', 'Դրոշ', 'Հայաստան', 'զինանշանը', 'Զինանշան', 'Օրհներգ՝', 'Մեր', 'հայրենիք', 'MENU0:00', 'Հայաստան', 'դիրքը', 'Մայրաքաղաք', 'Երևան', '40°11′N,', '44°31′E', 'Ամենամեծ', 'քաղաք', 'մայրաքաղաք', 'պետական', 'լեզու', 'հայերեն', 'Էթնիկ', 'խմբեր', '(Հունիս', '2015)', '98,1%', 'հայեր', '1,2%', 'եզդիներ', '0,4%', 'ռուսներ']\n"
     ]
    }
   ],
   "source": [
    "# load text\n",
    "filename = 'raw\\wiki_raw.txt'\n",
    "file = open(filename, 'rt', encoding=\"utf-8\")\n",
    "text = file.read()\n",
    "file.close()\n",
    "# split into words by white space\n",
    "words = text.split()\n",
    "print(words[:100])"
   ]
  },
  {
   "cell_type": "code",
   "execution_count": null,
   "metadata": {},
   "outputs": [],
   "source": []
  },
  {
   "cell_type": "code",
   "execution_count": null,
   "metadata": {},
   "outputs": [],
   "source": []
  }
 ],
 "metadata": {
  "kernelspec": {
   "display_name": "Python 3",
   "language": "python",
   "name": "python3"
  },
  "language_info": {
   "codemirror_mode": {
    "name": "ipython",
    "version": 3
   },
   "file_extension": ".py",
   "mimetype": "text/x-python",
   "name": "python",
   "nbconvert_exporter": "python",
   "pygments_lexer": "ipython3",
   "version": "3.6.1"
  }
 },
 "nbformat": 4,
 "nbformat_minor": 2
}
