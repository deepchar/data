{
 "cells": [
  {
   "cell_type": "code",
   "execution_count": 2,
   "metadata": {},
   "outputs": [],
   "source": [
    "from nltk.tokenize import TreebankWordTokenizer\n",
    "import codecs"
   ]
  },
  {
   "cell_type": "code",
   "execution_count": 3,
   "metadata": {},
   "outputs": [],
   "source": [
    "# load text\n",
    "filename = 'raw\\wiki_raw.txt'\n",
    "file = open(filename, 'rt', encoding=\"utf-8\")\n",
    "text = file.read()\n",
    "file.close()"
   ]
  },
  {
   "cell_type": "code",
   "execution_count": 4,
   "metadata": {},
   "outputs": [],
   "source": [
    "tokenizer = TreebankWordTokenizer()\n",
    "tokens = tokenizer.tokenize(text)\n"
   ]
  },
  {
   "cell_type": "code",
   "execution_count": 5,
   "metadata": {},
   "outputs": [
    {
     "name": "stdout",
     "output_type": "stream",
     "text": [
      "['ազատ', 'հանրագիտարանից', 'Jump', 'to', 'navigationJump', 'to', 'search', 'HS', 'Անվան', 'այլ', 'կիրառումների', 'համար', 'Հայաստան', 'այլ', 'կիրառումներ', 'Արեւմտահայերէն', 'Հայաստան', 'արեւմտահայերէն', 'Այս', 'հոդվածն', 'ունի', 'ձայնային', 'տարբերակ', 'Լսել', 'հոդվածի', 'ներածությունը', 'Ձայնային', 'ֆայլն', 'ստեղծվել', 'է', 'հետևյալ', 'տարբերակի', 'հիման', 'վրա', 'Սեպտեմբերի', 'և', 'չի', 'պարունակում', 'այս', 'ամսաթվից', 'հետո', 'կատարված', 'Տես', 'նաև', 'ֆայլի', 'մասին', 'տեղեկությունները', 'կամ', 'բեռնիր', 'ձայնագրությունը', 'Գտնել', 'այլ', 'աուդիո', 'հոդվածներ', 'Հայաստանի', 'Հանրապետություն', 'Հայաստան', 'դրոշ', 'Դրոշ', 'Հայաստան', 'զինանշանը', 'Զինանշան', 'Մեր', 'հայրենիք', 'Հայաստան', 'դիրքը', 'Մայրաքաղաք', 'Երևան', 'Ամենամեծ', 'քաղաք', 'մայրաքաղաք', 'պետական', 'լեզու', 'հայերեն', 'Էթնիկ', 'խմբեր', 'Հունիս', 'հայեր', 'եզդիներ', 'ռուսներ', 'այլ', 'Կառավարում', 'Խորհրդարանական', 'նախագահ', 'Արմեն', 'Սարգսյան', 'վարչապետ', 'Նիկոլ', 'Փաշինյան', 'հիմնադրում', 'և', 'անկախացում', 'ավանդական', 'տարեթիվ', 'Վանի', 'թագավորություն', 'Երվանդունիների', 'թագավորություն', 'Արտաշեսյանների', 'թագավորություն']\n"
     ]
    }
   ],
   "source": [
    "words = [word for word in tokens if word.isalpha()]\n",
    "print(words[:100])"
   ]
  },
  {
   "cell_type": "code",
   "execution_count": 18,
   "metadata": {},
   "outputs": [],
   "source": [
    "with open('clean_text.txt', 'w', encoding = \"utf-8\") as file:\n",
    "    for item in words:\n",
    "        file.write(item + ' ')"
   ]
  },
  {
   "cell_type": "raw",
   "metadata": {},
   "source": []
  }
 ],
 "metadata": {
  "kernelspec": {
   "display_name": "Python 3",
   "language": "python",
   "name": "python3"
  },
  "language_info": {
   "codemirror_mode": {
    "name": "ipython",
    "version": 3
   },
   "file_extension": ".py",
   "mimetype": "text/x-python",
   "name": "python",
   "nbconvert_exporter": "python",
   "pygments_lexer": "ipython3",
   "version": "3.6.1"
  }
 },
 "nbformat": 4,
 "nbformat_minor": 2
}
