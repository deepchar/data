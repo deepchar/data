import json

file = input('Enter a filename')
path = '\\mappings' + file
with open(path) as m:
	mapping = json.load(m)